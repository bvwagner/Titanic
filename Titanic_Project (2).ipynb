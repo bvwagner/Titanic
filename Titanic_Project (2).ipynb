{
 "cells": [
  {
   "cell_type": "code",
   "execution_count": 16,
   "id": "3b838d18-37d7-40d2-88bb-1f17a381903a",
   "metadata": {},
   "outputs": [],
   "source": [
    "import pandas as pd"
   ]
  },
  {
   "cell_type": "code",
   "execution_count": 18,
   "id": "5a1eb37f-7c8a-4266-8f66-23e26787e293",
   "metadata": {},
   "outputs": [],
   "source": [
    "import pandas as pd\n",
    "\n",
    "df = pd.read_csv(r\"C:\\Users\\benwa\\Downloads\\train.csv\")"
   ]
  },
  {
   "cell_type": "code",
   "execution_count": 20,
   "id": "4b438867-3a9d-4aa2-b5a2-d8ba53bd504f",
   "metadata": {},
   "outputs": [
    {
     "data": {
      "text/html": [
       "<div>\n",
       "<style scoped>\n",
       "    .dataframe tbody tr th:only-of-type {\n",
       "        vertical-align: middle;\n",
       "    }\n",
       "\n",
       "    .dataframe tbody tr th {\n",
       "        vertical-align: top;\n",
       "    }\n",
       "\n",
       "    .dataframe thead th {\n",
       "        text-align: right;\n",
       "    }\n",
       "</style>\n",
       "<table border=\"1\" class=\"dataframe\">\n",
       "  <thead>\n",
       "    <tr style=\"text-align: right;\">\n",
       "      <th></th>\n",
       "      <th>PassengerId</th>\n",
       "      <th>Survived</th>\n",
       "      <th>Pclass</th>\n",
       "      <th>Name</th>\n",
       "      <th>Sex</th>\n",
       "      <th>Age</th>\n",
       "      <th>SibSp</th>\n",
       "      <th>Parch</th>\n",
       "      <th>Ticket</th>\n",
       "      <th>Fare</th>\n",
       "      <th>Cabin</th>\n",
       "      <th>Embarked</th>\n",
       "    </tr>\n",
       "  </thead>\n",
       "  <tbody>\n",
       "    <tr>\n",
       "      <th>0</th>\n",
       "      <td>1</td>\n",
       "      <td>0</td>\n",
       "      <td>3</td>\n",
       "      <td>Braund, Mr. Owen Harris</td>\n",
       "      <td>male</td>\n",
       "      <td>22.0</td>\n",
       "      <td>1</td>\n",
       "      <td>0</td>\n",
       "      <td>A/5 21171</td>\n",
       "      <td>7.2500</td>\n",
       "      <td>NaN</td>\n",
       "      <td>S</td>\n",
       "    </tr>\n",
       "    <tr>\n",
       "      <th>1</th>\n",
       "      <td>2</td>\n",
       "      <td>1</td>\n",
       "      <td>1</td>\n",
       "      <td>Cumings, Mrs. John Bradley (Florence Briggs Th...</td>\n",
       "      <td>female</td>\n",
       "      <td>38.0</td>\n",
       "      <td>1</td>\n",
       "      <td>0</td>\n",
       "      <td>PC 17599</td>\n",
       "      <td>71.2833</td>\n",
       "      <td>C85</td>\n",
       "      <td>C</td>\n",
       "    </tr>\n",
       "    <tr>\n",
       "      <th>2</th>\n",
       "      <td>3</td>\n",
       "      <td>1</td>\n",
       "      <td>3</td>\n",
       "      <td>Heikkinen, Miss. Laina</td>\n",
       "      <td>female</td>\n",
       "      <td>26.0</td>\n",
       "      <td>0</td>\n",
       "      <td>0</td>\n",
       "      <td>STON/O2. 3101282</td>\n",
       "      <td>7.9250</td>\n",
       "      <td>NaN</td>\n",
       "      <td>S</td>\n",
       "    </tr>\n",
       "    <tr>\n",
       "      <th>3</th>\n",
       "      <td>4</td>\n",
       "      <td>1</td>\n",
       "      <td>1</td>\n",
       "      <td>Futrelle, Mrs. Jacques Heath (Lily May Peel)</td>\n",
       "      <td>female</td>\n",
       "      <td>35.0</td>\n",
       "      <td>1</td>\n",
       "      <td>0</td>\n",
       "      <td>113803</td>\n",
       "      <td>53.1000</td>\n",
       "      <td>C123</td>\n",
       "      <td>S</td>\n",
       "    </tr>\n",
       "    <tr>\n",
       "      <th>4</th>\n",
       "      <td>5</td>\n",
       "      <td>0</td>\n",
       "      <td>3</td>\n",
       "      <td>Allen, Mr. William Henry</td>\n",
       "      <td>male</td>\n",
       "      <td>35.0</td>\n",
       "      <td>0</td>\n",
       "      <td>0</td>\n",
       "      <td>373450</td>\n",
       "      <td>8.0500</td>\n",
       "      <td>NaN</td>\n",
       "      <td>S</td>\n",
       "    </tr>\n",
       "  </tbody>\n",
       "</table>\n",
       "</div>"
      ],
      "text/plain": [
       "   PassengerId  Survived  Pclass  \\\n",
       "0            1         0       3   \n",
       "1            2         1       1   \n",
       "2            3         1       3   \n",
       "3            4         1       1   \n",
       "4            5         0       3   \n",
       "\n",
       "                                                Name     Sex   Age  SibSp  \\\n",
       "0                            Braund, Mr. Owen Harris    male  22.0      1   \n",
       "1  Cumings, Mrs. John Bradley (Florence Briggs Th...  female  38.0      1   \n",
       "2                             Heikkinen, Miss. Laina  female  26.0      0   \n",
       "3       Futrelle, Mrs. Jacques Heath (Lily May Peel)  female  35.0      1   \n",
       "4                           Allen, Mr. William Henry    male  35.0      0   \n",
       "\n",
       "   Parch            Ticket     Fare Cabin Embarked  \n",
       "0      0         A/5 21171   7.2500   NaN        S  \n",
       "1      0          PC 17599  71.2833   C85        C  \n",
       "2      0  STON/O2. 3101282   7.9250   NaN        S  \n",
       "3      0            113803  53.1000  C123        S  \n",
       "4      0            373450   8.0500   NaN        S  "
      ]
     },
     "execution_count": 20,
     "metadata": {},
     "output_type": "execute_result"
    }
   ],
   "source": [
    "df.head()"
   ]
  },
  {
   "cell_type": "markdown",
   "id": "b89d8ef3-61b6-4274-8a2f-fa5ff726be60",
   "metadata": {},
   "source": [
    "# SQL - Query the data"
   ]
  },
  {
   "cell_type": "code",
   "execution_count": 22,
   "id": "f0733e8e-4129-42b4-82c1-878b8657714c",
   "metadata": {},
   "outputs": [
    {
     "name": "stdout",
     "output_type": "stream",
     "text": [
      "Requirement already satisfied: ipython-sql in c:\\users\\benwa\\anaconda3\\lib\\site-packages (0.5.0)\n",
      "Requirement already satisfied: prettytable in c:\\users\\benwa\\anaconda3\\lib\\site-packages (from ipython-sql) (3.10.2)\n",
      "Requirement already satisfied: ipython in c:\\users\\benwa\\anaconda3\\lib\\site-packages (from ipython-sql) (8.25.0)\n",
      "Requirement already satisfied: sqlalchemy>=2.0 in c:\\users\\benwa\\anaconda3\\lib\\site-packages (from ipython-sql) (2.0.30)\n",
      "Requirement already satisfied: sqlparse in c:\\users\\benwa\\anaconda3\\lib\\site-packages (from ipython-sql) (0.5.1)\n",
      "Requirement already satisfied: six in c:\\users\\benwa\\anaconda3\\lib\\site-packages (from ipython-sql) (1.16.0)\n",
      "Requirement already satisfied: ipython-genutils in c:\\users\\benwa\\anaconda3\\lib\\site-packages (from ipython-sql) (0.2.0)\n",
      "Requirement already satisfied: typing-extensions>=4.6.0 in c:\\users\\benwa\\anaconda3\\lib\\site-packages (from sqlalchemy>=2.0->ipython-sql) (4.11.0)\n",
      "Requirement already satisfied: greenlet!=0.4.17 in c:\\users\\benwa\\anaconda3\\lib\\site-packages (from sqlalchemy>=2.0->ipython-sql) (3.0.1)\n",
      "Requirement already satisfied: decorator in c:\\users\\benwa\\anaconda3\\lib\\site-packages (from ipython->ipython-sql) (5.1.1)\n",
      "Requirement already satisfied: jedi>=0.16 in c:\\users\\benwa\\anaconda3\\lib\\site-packages (from ipython->ipython-sql) (0.18.1)\n",
      "Requirement already satisfied: matplotlib-inline in c:\\users\\benwa\\anaconda3\\lib\\site-packages (from ipython->ipython-sql) (0.1.6)\n",
      "Requirement already satisfied: prompt-toolkit<3.1.0,>=3.0.41 in c:\\users\\benwa\\anaconda3\\lib\\site-packages (from ipython->ipython-sql) (3.0.43)\n",
      "Requirement already satisfied: pygments>=2.4.0 in c:\\users\\benwa\\anaconda3\\lib\\site-packages (from ipython->ipython-sql) (2.15.1)\n",
      "Requirement already satisfied: stack-data in c:\\users\\benwa\\anaconda3\\lib\\site-packages (from ipython->ipython-sql) (0.2.0)\n",
      "Requirement already satisfied: traitlets>=5.13.0 in c:\\users\\benwa\\anaconda3\\lib\\site-packages (from ipython->ipython-sql) (5.14.3)\n",
      "Requirement already satisfied: colorama in c:\\users\\benwa\\anaconda3\\lib\\site-packages (from ipython->ipython-sql) (0.4.6)\n",
      "Requirement already satisfied: wcwidth in c:\\users\\benwa\\anaconda3\\lib\\site-packages (from prettytable->ipython-sql) (0.2.5)\n",
      "Requirement already satisfied: parso<0.9.0,>=0.8.0 in c:\\users\\benwa\\anaconda3\\lib\\site-packages (from jedi>=0.16->ipython->ipython-sql) (0.8.3)\n",
      "Requirement already satisfied: executing in c:\\users\\benwa\\anaconda3\\lib\\site-packages (from stack-data->ipython->ipython-sql) (0.8.3)\n",
      "Requirement already satisfied: asttokens in c:\\users\\benwa\\anaconda3\\lib\\site-packages (from stack-data->ipython->ipython-sql) (2.0.5)\n",
      "Requirement already satisfied: pure-eval in c:\\users\\benwa\\anaconda3\\lib\\site-packages (from stack-data->ipython->ipython-sql) (0.2.2)\n"
     ]
    }
   ],
   "source": [
    "!pip install ipython-sql\n",
    "\n",
    "%load_ext sql"
   ]
  },
  {
   "cell_type": "code",
   "execution_count": 24,
   "id": "5fd52acc-d2f1-499b-b07f-c7c6108cb24d",
   "metadata": {},
   "outputs": [],
   "source": [
    "# Use a file-based SQLite database\n",
    "database_filename = 'my_database.db'\n",
    "df.to_sql('titanic_data', f'sqlite:///{database_filename}', if_exists='replace', index=False)\n",
    "\n",
    "# Now connect ipython-sql to the same file-based database\n",
    "%sql sqlite:///my_database.db"
   ]
  },
  {
   "cell_type": "code",
   "execution_count": 26,
   "id": "2b95b4cd-cbaa-419d-904f-f7896d5550bf",
   "metadata": {},
   "outputs": [
    {
     "name": "stdout",
     "output_type": "stream",
     "text": [
      " * sqlite:///my_database.db\n",
      "Done.\n"
     ]
    },
    {
     "data": {
      "text/html": [
       "<table>\n",
       "    <thead>\n",
       "        <tr>\n",
       "            <th>PassengerId</th>\n",
       "            <th>Survived</th>\n",
       "            <th>Pclass</th>\n",
       "            <th>Name</th>\n",
       "            <th>Sex</th>\n",
       "            <th>Age</th>\n",
       "            <th>SibSp</th>\n",
       "            <th>Parch</th>\n",
       "            <th>Ticket</th>\n",
       "            <th>Fare</th>\n",
       "            <th>Cabin</th>\n",
       "            <th>Embarked</th>\n",
       "        </tr>\n",
       "    </thead>\n",
       "    <tbody>\n",
       "        <tr>\n",
       "            <td>1</td>\n",
       "            <td>0</td>\n",
       "            <td>3</td>\n",
       "            <td>Braund, Mr. Owen Harris</td>\n",
       "            <td>male</td>\n",
       "            <td>22.0</td>\n",
       "            <td>1</td>\n",
       "            <td>0</td>\n",
       "            <td>A/5 21171</td>\n",
       "            <td>7.25</td>\n",
       "            <td>None</td>\n",
       "            <td>S</td>\n",
       "        </tr>\n",
       "        <tr>\n",
       "            <td>2</td>\n",
       "            <td>1</td>\n",
       "            <td>1</td>\n",
       "            <td>Cumings, Mrs. John Bradley (Florence Briggs Thayer)</td>\n",
       "            <td>female</td>\n",
       "            <td>38.0</td>\n",
       "            <td>1</td>\n",
       "            <td>0</td>\n",
       "            <td>PC 17599</td>\n",
       "            <td>71.2833</td>\n",
       "            <td>C85</td>\n",
       "            <td>C</td>\n",
       "        </tr>\n",
       "        <tr>\n",
       "            <td>3</td>\n",
       "            <td>1</td>\n",
       "            <td>3</td>\n",
       "            <td>Heikkinen, Miss. Laina</td>\n",
       "            <td>female</td>\n",
       "            <td>26.0</td>\n",
       "            <td>0</td>\n",
       "            <td>0</td>\n",
       "            <td>STON/O2. 3101282</td>\n",
       "            <td>7.925</td>\n",
       "            <td>None</td>\n",
       "            <td>S</td>\n",
       "        </tr>\n",
       "        <tr>\n",
       "            <td>4</td>\n",
       "            <td>1</td>\n",
       "            <td>1</td>\n",
       "            <td>Futrelle, Mrs. Jacques Heath (Lily May Peel)</td>\n",
       "            <td>female</td>\n",
       "            <td>35.0</td>\n",
       "            <td>1</td>\n",
       "            <td>0</td>\n",
       "            <td>113803</td>\n",
       "            <td>53.1</td>\n",
       "            <td>C123</td>\n",
       "            <td>S</td>\n",
       "        </tr>\n",
       "        <tr>\n",
       "            <td>5</td>\n",
       "            <td>0</td>\n",
       "            <td>3</td>\n",
       "            <td>Allen, Mr. William Henry</td>\n",
       "            <td>male</td>\n",
       "            <td>35.0</td>\n",
       "            <td>0</td>\n",
       "            <td>0</td>\n",
       "            <td>373450</td>\n",
       "            <td>8.05</td>\n",
       "            <td>None</td>\n",
       "            <td>S</td>\n",
       "        </tr>\n",
       "        <tr>\n",
       "            <td>6</td>\n",
       "            <td>0</td>\n",
       "            <td>3</td>\n",
       "            <td>Moran, Mr. James</td>\n",
       "            <td>male</td>\n",
       "            <td>None</td>\n",
       "            <td>0</td>\n",
       "            <td>0</td>\n",
       "            <td>330877</td>\n",
       "            <td>8.4583</td>\n",
       "            <td>None</td>\n",
       "            <td>Q</td>\n",
       "        </tr>\n",
       "        <tr>\n",
       "            <td>7</td>\n",
       "            <td>0</td>\n",
       "            <td>1</td>\n",
       "            <td>McCarthy, Mr. Timothy J</td>\n",
       "            <td>male</td>\n",
       "            <td>54.0</td>\n",
       "            <td>0</td>\n",
       "            <td>0</td>\n",
       "            <td>17463</td>\n",
       "            <td>51.8625</td>\n",
       "            <td>E46</td>\n",
       "            <td>S</td>\n",
       "        </tr>\n",
       "        <tr>\n",
       "            <td>8</td>\n",
       "            <td>0</td>\n",
       "            <td>3</td>\n",
       "            <td>Palsson, Master. Gosta Leonard</td>\n",
       "            <td>male</td>\n",
       "            <td>2.0</td>\n",
       "            <td>3</td>\n",
       "            <td>1</td>\n",
       "            <td>349909</td>\n",
       "            <td>21.075</td>\n",
       "            <td>None</td>\n",
       "            <td>S</td>\n",
       "        </tr>\n",
       "        <tr>\n",
       "            <td>9</td>\n",
       "            <td>1</td>\n",
       "            <td>3</td>\n",
       "            <td>Johnson, Mrs. Oscar W (Elisabeth Vilhelmina Berg)</td>\n",
       "            <td>female</td>\n",
       "            <td>27.0</td>\n",
       "            <td>0</td>\n",
       "            <td>2</td>\n",
       "            <td>347742</td>\n",
       "            <td>11.1333</td>\n",
       "            <td>None</td>\n",
       "            <td>S</td>\n",
       "        </tr>\n",
       "        <tr>\n",
       "            <td>10</td>\n",
       "            <td>1</td>\n",
       "            <td>2</td>\n",
       "            <td>Nasser, Mrs. Nicholas (Adele Achem)</td>\n",
       "            <td>female</td>\n",
       "            <td>14.0</td>\n",
       "            <td>1</td>\n",
       "            <td>0</td>\n",
       "            <td>237736</td>\n",
       "            <td>30.0708</td>\n",
       "            <td>None</td>\n",
       "            <td>C</td>\n",
       "        </tr>\n",
       "    </tbody>\n",
       "</table>"
      ],
      "text/plain": [
       "[(1, 0, 3, 'Braund, Mr. Owen Harris', 'male', 22.0, 1, 0, 'A/5 21171', 7.25, None, 'S'),\n",
       " (2, 1, 1, 'Cumings, Mrs. John Bradley (Florence Briggs Thayer)', 'female', 38.0, 1, 0, 'PC 17599', 71.2833, 'C85', 'C'),\n",
       " (3, 1, 3, 'Heikkinen, Miss. Laina', 'female', 26.0, 0, 0, 'STON/O2. 3101282', 7.925, None, 'S'),\n",
       " (4, 1, 1, 'Futrelle, Mrs. Jacques Heath (Lily May Peel)', 'female', 35.0, 1, 0, '113803', 53.1, 'C123', 'S'),\n",
       " (5, 0, 3, 'Allen, Mr. William Henry', 'male', 35.0, 0, 0, '373450', 8.05, None, 'S'),\n",
       " (6, 0, 3, 'Moran, Mr. James', 'male', None, 0, 0, '330877', 8.4583, None, 'Q'),\n",
       " (7, 0, 1, 'McCarthy, Mr. Timothy J', 'male', 54.0, 0, 0, '17463', 51.8625, 'E46', 'S'),\n",
       " (8, 0, 3, 'Palsson, Master. Gosta Leonard', 'male', 2.0, 3, 1, '349909', 21.075, None, 'S'),\n",
       " (9, 1, 3, 'Johnson, Mrs. Oscar W (Elisabeth Vilhelmina Berg)', 'female', 27.0, 0, 2, '347742', 11.1333, None, 'S'),\n",
       " (10, 1, 2, 'Nasser, Mrs. Nicholas (Adele Achem)', 'female', 14.0, 1, 0, '237736', 30.0708, None, 'C')]"
      ]
     },
     "execution_count": 26,
     "metadata": {},
     "output_type": "execute_result"
    }
   ],
   "source": [
    "%sql SELECT * FROM titanic_data LIMIT 10;"
   ]
  },
  {
   "cell_type": "markdown",
   "id": "795e1b1b-a7c0-4050-9bae-bee807700ac9",
   "metadata": {},
   "source": [
    "| Variable | Definition                              | Key                                      |\r\n",
    "|----------|-----------------------------------------|------------------------------------------|\r\n",
    "| survival | Survival                                | 0 = No, 1 = Yes                          |\r\n",
    "| pclass   | Ticket class                            | 1 = 1st, 2 = 2nd, 3 = 3rd               |\r\n",
    "| sex      | Sex                                     | N/A                                      |\r\n",
    "| Age      | Age in years                            | N/A                                      |\r\n",
    "| sibsp    | # of siblings / spouses aboard the Titanic | N/A                                  |\r\n",
    "| parch    | # of parents / children aboard the Titanic | N/A                                  |\r\n",
    "| ticket   | Ticket number                           | N/A                                      |\r\n",
    "| fare     | Passenger fare                          | N/A                                      |\r\n",
    "| cabin    | Cabin number                            | N/A                                      |\r\n",
    "| embarked | Port of Embarkation                     | C = Cherbourg, Q = Queenstown, S = Southampton |refore parch=0 for them.refore parch=0 for them."
   ]
  },
  {
   "cell_type": "markdown",
   "id": "71b55667-b806-4c93-82f6-769c1f94a498",
   "metadata": {},
   "source": [
    "| *Variable Notes* |\n",
    "|------------------|\n",
    "|pclass: A proxy for socio-economic status (SES)|\n",
    "|\"1st = Upper\"|\n",
    "|\"2nd = Middle\"|\n",
    "|\"3rd = Lower\"|\n",
    "|age: Age is fractional if less than 1. If the age is estimated, is it in the form of xx.5|\n",
    "|sibsp: The dataset defines family relations in this way...|\n",
    "|Sibling = brother, sister, stepbrother, stepsister|\n",
    "|Spouse = husband, wife (mistresses and fiancés were ignored)|\n",
    "|parch: The dataset defines family relations in this way...|\n",
    "|Parent = mother, father|\n",
    "|Child = daughter, son, stepdaughter, stepson|\n",
    "|Some children travelled only with a nanny, therefore parch=0 for them.|"
   ]
  },
  {
   "cell_type": "markdown",
   "id": "86e057e0-5735-478c-a798-1381a273f455",
   "metadata": {},
   "source": [
    "**Goal** : Analyze the correlation between passenger class and survival on the Titanic, and examine the age distribution within each class to pinpoint vulnerable age groups\n",
    "\n",
    "**Hypotheses**:\n",
    "1. First-class passengers had a significantly higher survival rate than those in lower classes.\n",
    "2. Children and young adults had a higher survival rate across all classes.\n",
    "3. Elderly passengers had a lower survival rate."
   ]
  },
  {
   "cell_type": "code",
   "execution_count": 28,
   "id": "a99d9f73-ec6d-466e-88db-864da5eb9640",
   "metadata": {},
   "outputs": [
    {
     "name": "stdout",
     "output_type": "stream",
     "text": [
      " * sqlite:///my_database.db\n",
      "Done.\n"
     ]
    },
    {
     "data": {
      "text/html": [
       "<table>\n",
       "    <thead>\n",
       "        <tr>\n",
       "            <th>Survived</th>\n",
       "            <th>Pclass</th>\n",
       "            <th>Age</th>\n",
       "        </tr>\n",
       "    </thead>\n",
       "    <tbody>\n",
       "        <tr>\n",
       "            <td>0</td>\n",
       "            <td>3</td>\n",
       "            <td>22.0</td>\n",
       "        </tr>\n",
       "        <tr>\n",
       "            <td>1</td>\n",
       "            <td>1</td>\n",
       "            <td>38.0</td>\n",
       "        </tr>\n",
       "        <tr>\n",
       "            <td>1</td>\n",
       "            <td>3</td>\n",
       "            <td>26.0</td>\n",
       "        </tr>\n",
       "        <tr>\n",
       "            <td>1</td>\n",
       "            <td>1</td>\n",
       "            <td>35.0</td>\n",
       "        </tr>\n",
       "        <tr>\n",
       "            <td>0</td>\n",
       "            <td>3</td>\n",
       "            <td>35.0</td>\n",
       "        </tr>\n",
       "        <tr>\n",
       "            <td>0</td>\n",
       "            <td>3</td>\n",
       "            <td>None</td>\n",
       "        </tr>\n",
       "        <tr>\n",
       "            <td>0</td>\n",
       "            <td>1</td>\n",
       "            <td>54.0</td>\n",
       "        </tr>\n",
       "        <tr>\n",
       "            <td>0</td>\n",
       "            <td>3</td>\n",
       "            <td>2.0</td>\n",
       "        </tr>\n",
       "        <tr>\n",
       "            <td>1</td>\n",
       "            <td>3</td>\n",
       "            <td>27.0</td>\n",
       "        </tr>\n",
       "        <tr>\n",
       "            <td>1</td>\n",
       "            <td>2</td>\n",
       "            <td>14.0</td>\n",
       "        </tr>\n",
       "    </tbody>\n",
       "</table>"
      ],
      "text/plain": [
       "[(0, 3, 22.0),\n",
       " (1, 1, 38.0),\n",
       " (1, 3, 26.0),\n",
       " (1, 1, 35.0),\n",
       " (0, 3, 35.0),\n",
       " (0, 3, None),\n",
       " (0, 1, 54.0),\n",
       " (0, 3, 2.0),\n",
       " (1, 3, 27.0),\n",
       " (1, 2, 14.0)]"
      ]
     },
     "execution_count": 28,
     "metadata": {},
     "output_type": "execute_result"
    }
   ],
   "source": [
    "\n",
    "# Servived Pclass & age\n",
    "%sql SELECT Survived, Pclass, Age FROM titanic_data LIMIT 10;"
   ]
  },
  {
   "cell_type": "code",
   "execution_count": 30,
   "id": "cd39cec0-1d1a-4776-a0f0-3238189dca68",
   "metadata": {},
   "outputs": [
    {
     "name": "stdout",
     "output_type": "stream",
     "text": [
      " * sqlite:///my_database.db\n",
      "Done.\n"
     ]
    }
   ],
   "source": [
    "Pclass_Age = %sql SELECT Survived, Pclass, Age FROM titanic_data"
   ]
  },
  {
   "cell_type": "markdown",
   "id": "d2e050ea-75c9-464e-92a3-ac8a231ebaec",
   "metadata": {},
   "source": [
    "# Python"
   ]
  },
  {
   "cell_type": "code",
   "execution_count": 32,
   "id": "b1fdf26e-59c2-4504-9ec7-b3c39376c6fd",
   "metadata": {},
   "outputs": [
    {
     "name": "stdout",
     "output_type": "stream",
     "text": [
      "<class 'pandas.core.frame.DataFrame'>\n",
      "RangeIndex: 891 entries, 0 to 890\n",
      "Data columns (total 3 columns):\n",
      " #   Column    Non-Null Count  Dtype  \n",
      "---  ------    --------------  -----  \n",
      " 0   Survived  891 non-null    int64  \n",
      " 1   Pclass    891 non-null    int64  \n",
      " 2   Age       714 non-null    float64\n",
      "dtypes: float64(1), int64(2)\n",
      "memory usage: 21.0 KB\n"
     ]
    }
   ],
   "source": [
    "df = pd.DataFrame(Pclass_Age)\n",
    "df.info()"
   ]
  },
  {
   "cell_type": "code",
   "execution_count": 34,
   "id": "58b1d7b8-ae8a-4391-898b-0adf102dccfb",
   "metadata": {},
   "outputs": [
    {
     "name": "stdout",
     "output_type": "stream",
     "text": [
      "Number of Missing Values:\n",
      "Survived      0\n",
      "Pclass        0\n",
      "Age         177\n",
      "dtype: int64\n"
     ]
    }
   ],
   "source": [
    "#Find missing values\n",
    "print('Number of Missing Values:')\n",
    "print(df.isnull().sum())"
   ]
  },
  {
   "cell_type": "code",
   "execution_count": 36,
   "id": "46454a1a-b244-4ff6-8f11-6bf50a332368",
   "metadata": {},
   "outputs": [
    {
     "data": {
      "text/html": [
       "<div>\n",
       "<style scoped>\n",
       "    .dataframe tbody tr th:only-of-type {\n",
       "        vertical-align: middle;\n",
       "    }\n",
       "\n",
       "    .dataframe tbody tr th {\n",
       "        vertical-align: top;\n",
       "    }\n",
       "\n",
       "    .dataframe thead th {\n",
       "        text-align: right;\n",
       "    }\n",
       "</style>\n",
       "<table border=\"1\" class=\"dataframe\">\n",
       "  <thead>\n",
       "    <tr style=\"text-align: right;\">\n",
       "      <th></th>\n",
       "      <th>Survived</th>\n",
       "      <th>Pclass</th>\n",
       "      <th>Age</th>\n",
       "    </tr>\n",
       "  </thead>\n",
       "  <tbody>\n",
       "    <tr>\n",
       "      <th>count</th>\n",
       "      <td>891.000000</td>\n",
       "      <td>891.000000</td>\n",
       "      <td>714.000000</td>\n",
       "    </tr>\n",
       "    <tr>\n",
       "      <th>mean</th>\n",
       "      <td>0.383838</td>\n",
       "      <td>2.308642</td>\n",
       "      <td>29.699118</td>\n",
       "    </tr>\n",
       "    <tr>\n",
       "      <th>std</th>\n",
       "      <td>0.486592</td>\n",
       "      <td>0.836071</td>\n",
       "      <td>14.526497</td>\n",
       "    </tr>\n",
       "    <tr>\n",
       "      <th>min</th>\n",
       "      <td>0.000000</td>\n",
       "      <td>1.000000</td>\n",
       "      <td>0.420000</td>\n",
       "    </tr>\n",
       "    <tr>\n",
       "      <th>25%</th>\n",
       "      <td>0.000000</td>\n",
       "      <td>2.000000</td>\n",
       "      <td>20.125000</td>\n",
       "    </tr>\n",
       "    <tr>\n",
       "      <th>50%</th>\n",
       "      <td>0.000000</td>\n",
       "      <td>3.000000</td>\n",
       "      <td>28.000000</td>\n",
       "    </tr>\n",
       "    <tr>\n",
       "      <th>75%</th>\n",
       "      <td>1.000000</td>\n",
       "      <td>3.000000</td>\n",
       "      <td>38.000000</td>\n",
       "    </tr>\n",
       "    <tr>\n",
       "      <th>max</th>\n",
       "      <td>1.000000</td>\n",
       "      <td>3.000000</td>\n",
       "      <td>80.000000</td>\n",
       "    </tr>\n",
       "  </tbody>\n",
       "</table>\n",
       "</div>"
      ],
      "text/plain": [
       "         Survived      Pclass         Age\n",
       "count  891.000000  891.000000  714.000000\n",
       "mean     0.383838    2.308642   29.699118\n",
       "std      0.486592    0.836071   14.526497\n",
       "min      0.000000    1.000000    0.420000\n",
       "25%      0.000000    2.000000   20.125000\n",
       "50%      0.000000    3.000000   28.000000\n",
       "75%      1.000000    3.000000   38.000000\n",
       "max      1.000000    3.000000   80.000000"
      ]
     },
     "execution_count": 36,
     "metadata": {},
     "output_type": "execute_result"
    }
   ],
   "source": [
    "df.describe()"
   ]
  },
  {
   "cell_type": "code",
   "execution_count": 38,
   "id": "0f986cd3-1abb-47ff-87b8-3df47dbb09be",
   "metadata": {},
   "outputs": [
    {
     "name": "stdout",
     "output_type": "stream",
     "text": [
      "Number of Missing Values in Age column:\n",
      "0\n"
     ]
    },
    {
     "name": "stderr",
     "output_type": "stream",
     "text": [
      "C:\\Users\\benwa\\AppData\\Local\\Temp\\ipykernel_11500\\808600105.py:6: FutureWarning: A value is trying to be set on a copy of a DataFrame or Series through chained assignment using an inplace method.\n",
      "The behavior will change in pandas 3.0. This inplace method will never work because the intermediate object on which we are setting values always behaves as a copy.\n",
      "\n",
      "For example, when doing 'df[col].method(value, inplace=True)', try using 'df.method({col: value}, inplace=True)' or df[col] = df[col].method(value) instead, to perform the operation inplace on the original object.\n",
      "\n",
      "\n",
      "  df['Age'].fillna(age_mean, inplace=True)\n"
     ]
    }
   ],
   "source": [
    "# Replace the missing values in Age\n",
    "#Find the mean of the Age column\n",
    "age_mean = df['Age'].mean()\n",
    "\n",
    "#Replace missing values in the Age column with the mean\n",
    "df['Age'].fillna(age_mean, inplace=True)\n",
    "\n",
    "#Verify that there are no missing values in the age column\n",
    "print('Number of Missing Values in Age column:')\n",
    "print(df['Age'].isnull().sum())"
   ]
  },
  {
   "cell_type": "code",
   "execution_count": 40,
   "id": "e5f077da-10e3-4394-9ba6-b765a66b5e27",
   "metadata": {},
   "outputs": [
    {
     "name": "stdout",
     "output_type": "stream",
     "text": [
      "<class 'pandas.core.frame.DataFrame'>\n",
      "RangeIndex: 891 entries, 0 to 890\n",
      "Data columns (total 3 columns):\n",
      " #   Column    Non-Null Count  Dtype  \n",
      "---  ------    --------------  -----  \n",
      " 0   Survived  891 non-null    int64  \n",
      " 1   Pclass    891 non-null    int64  \n",
      " 2   Age       891 non-null    float64\n",
      "dtypes: float64(1), int64(2)\n",
      "memory usage: 21.0 KB\n"
     ]
    }
   ],
   "source": [
    "df.info()"
   ]
  },
  {
   "cell_type": "code",
   "execution_count": 42,
   "id": "4e454be5-53ae-4cfc-971f-b309cd54d59c",
   "metadata": {},
   "outputs": [],
   "source": [
    "# Round the values in the Age column\n",
    "df ['Age'] = df['Age'].round()"
   ]
  },
  {
   "cell_type": "code",
   "execution_count": 44,
   "id": "9450680b-261b-41c1-8fad-eb66a4830ff4",
   "metadata": {},
   "outputs": [
    {
     "data": {
      "text/html": [
       "<div>\n",
       "<style scoped>\n",
       "    .dataframe tbody tr th:only-of-type {\n",
       "        vertical-align: middle;\n",
       "    }\n",
       "\n",
       "    .dataframe tbody tr th {\n",
       "        vertical-align: top;\n",
       "    }\n",
       "\n",
       "    .dataframe thead th {\n",
       "        text-align: right;\n",
       "    }\n",
       "</style>\n",
       "<table border=\"1\" class=\"dataframe\">\n",
       "  <thead>\n",
       "    <tr style=\"text-align: right;\">\n",
       "      <th></th>\n",
       "      <th>Survived</th>\n",
       "      <th>Pclass</th>\n",
       "      <th>Age</th>\n",
       "    </tr>\n",
       "  </thead>\n",
       "  <tbody>\n",
       "    <tr>\n",
       "      <th>count</th>\n",
       "      <td>891.000000</td>\n",
       "      <td>891.000000</td>\n",
       "      <td>891.000000</td>\n",
       "    </tr>\n",
       "    <tr>\n",
       "      <th>mean</th>\n",
       "      <td>0.383838</td>\n",
       "      <td>2.308642</td>\n",
       "      <td>29.754209</td>\n",
       "    </tr>\n",
       "    <tr>\n",
       "      <th>std</th>\n",
       "      <td>0.486592</td>\n",
       "      <td>0.836071</td>\n",
       "      <td>13.000828</td>\n",
       "    </tr>\n",
       "    <tr>\n",
       "      <th>min</th>\n",
       "      <td>0.000000</td>\n",
       "      <td>1.000000</td>\n",
       "      <td>0.000000</td>\n",
       "    </tr>\n",
       "    <tr>\n",
       "      <th>25%</th>\n",
       "      <td>0.000000</td>\n",
       "      <td>2.000000</td>\n",
       "      <td>22.000000</td>\n",
       "    </tr>\n",
       "    <tr>\n",
       "      <th>50%</th>\n",
       "      <td>0.000000</td>\n",
       "      <td>3.000000</td>\n",
       "      <td>30.000000</td>\n",
       "    </tr>\n",
       "    <tr>\n",
       "      <th>75%</th>\n",
       "      <td>1.000000</td>\n",
       "      <td>3.000000</td>\n",
       "      <td>35.000000</td>\n",
       "    </tr>\n",
       "    <tr>\n",
       "      <th>max</th>\n",
       "      <td>1.000000</td>\n",
       "      <td>3.000000</td>\n",
       "      <td>80.000000</td>\n",
       "    </tr>\n",
       "  </tbody>\n",
       "</table>\n",
       "</div>"
      ],
      "text/plain": [
       "         Survived      Pclass         Age\n",
       "count  891.000000  891.000000  891.000000\n",
       "mean     0.383838    2.308642   29.754209\n",
       "std      0.486592    0.836071   13.000828\n",
       "min      0.000000    1.000000    0.000000\n",
       "25%      0.000000    2.000000   22.000000\n",
       "50%      0.000000    3.000000   30.000000\n",
       "75%      1.000000    3.000000   35.000000\n",
       "max      1.000000    3.000000   80.000000"
      ]
     },
     "execution_count": 44,
     "metadata": {},
     "output_type": "execute_result"
    }
   ],
   "source": [
    "df.describe()"
   ]
  },
  {
   "cell_type": "code",
   "execution_count": 46,
   "id": "bef4f5f5-79f7-410c-bff6-2b3a8cda0102",
   "metadata": {},
   "outputs": [],
   "source": [
    "#Define a function to categorize age. Source:https://www.indexmundi.com/united_states/age_structure.html#:~:text=Information%20is%20included%20by%20sex,years%20and%20over%20(elderly).\n",
    "def categorize_age(age):\n",
    "    if age <= 14:\n",
    "        return 'Children'\n",
    "    elif 15 <= age <= 64:\n",
    "        return 'Youth&Adults'\n",
    "    else:\n",
    "        return 'Seniors'\n",
    "#Create the 'age_category' column\n",
    "df['age_category'] = df['Age'].apply(categorize_age)"
   ]
  },
  {
   "cell_type": "code",
   "execution_count": 48,
   "id": "369f73eb-bd80-4da7-af07-68eed839d3aa",
   "metadata": {},
   "outputs": [
    {
     "data": {
      "text/html": [
       "<div>\n",
       "<style scoped>\n",
       "    .dataframe tbody tr th:only-of-type {\n",
       "        vertical-align: middle;\n",
       "    }\n",
       "\n",
       "    .dataframe tbody tr th {\n",
       "        vertical-align: top;\n",
       "    }\n",
       "\n",
       "    .dataframe thead th {\n",
       "        text-align: right;\n",
       "    }\n",
       "</style>\n",
       "<table border=\"1\" class=\"dataframe\">\n",
       "  <thead>\n",
       "    <tr style=\"text-align: right;\">\n",
       "      <th></th>\n",
       "      <th>Survived</th>\n",
       "      <th>Pclass</th>\n",
       "      <th>Age</th>\n",
       "      <th>age_category</th>\n",
       "    </tr>\n",
       "  </thead>\n",
       "  <tbody>\n",
       "    <tr>\n",
       "      <th>0</th>\n",
       "      <td>0</td>\n",
       "      <td>3</td>\n",
       "      <td>22.0</td>\n",
       "      <td>Youth&amp;Adults</td>\n",
       "    </tr>\n",
       "    <tr>\n",
       "      <th>1</th>\n",
       "      <td>1</td>\n",
       "      <td>1</td>\n",
       "      <td>38.0</td>\n",
       "      <td>Youth&amp;Adults</td>\n",
       "    </tr>\n",
       "    <tr>\n",
       "      <th>2</th>\n",
       "      <td>1</td>\n",
       "      <td>3</td>\n",
       "      <td>26.0</td>\n",
       "      <td>Youth&amp;Adults</td>\n",
       "    </tr>\n",
       "    <tr>\n",
       "      <th>3</th>\n",
       "      <td>1</td>\n",
       "      <td>1</td>\n",
       "      <td>35.0</td>\n",
       "      <td>Youth&amp;Adults</td>\n",
       "    </tr>\n",
       "    <tr>\n",
       "      <th>4</th>\n",
       "      <td>0</td>\n",
       "      <td>3</td>\n",
       "      <td>35.0</td>\n",
       "      <td>Youth&amp;Adults</td>\n",
       "    </tr>\n",
       "    <tr>\n",
       "      <th>5</th>\n",
       "      <td>0</td>\n",
       "      <td>3</td>\n",
       "      <td>30.0</td>\n",
       "      <td>Youth&amp;Adults</td>\n",
       "    </tr>\n",
       "    <tr>\n",
       "      <th>6</th>\n",
       "      <td>0</td>\n",
       "      <td>1</td>\n",
       "      <td>54.0</td>\n",
       "      <td>Youth&amp;Adults</td>\n",
       "    </tr>\n",
       "    <tr>\n",
       "      <th>7</th>\n",
       "      <td>0</td>\n",
       "      <td>3</td>\n",
       "      <td>2.0</td>\n",
       "      <td>Children</td>\n",
       "    </tr>\n",
       "    <tr>\n",
       "      <th>8</th>\n",
       "      <td>1</td>\n",
       "      <td>3</td>\n",
       "      <td>27.0</td>\n",
       "      <td>Youth&amp;Adults</td>\n",
       "    </tr>\n",
       "    <tr>\n",
       "      <th>9</th>\n",
       "      <td>1</td>\n",
       "      <td>2</td>\n",
       "      <td>14.0</td>\n",
       "      <td>Children</td>\n",
       "    </tr>\n",
       "  </tbody>\n",
       "</table>\n",
       "</div>"
      ],
      "text/plain": [
       "   Survived  Pclass   Age  age_category\n",
       "0         0       3  22.0  Youth&Adults\n",
       "1         1       1  38.0  Youth&Adults\n",
       "2         1       3  26.0  Youth&Adults\n",
       "3         1       1  35.0  Youth&Adults\n",
       "4         0       3  35.0  Youth&Adults\n",
       "5         0       3  30.0  Youth&Adults\n",
       "6         0       1  54.0  Youth&Adults\n",
       "7         0       3   2.0      Children\n",
       "8         1       3  27.0  Youth&Adults\n",
       "9         1       2  14.0      Children"
      ]
     },
     "execution_count": 48,
     "metadata": {},
     "output_type": "execute_result"
    }
   ],
   "source": [
    "df.head(10)"
   ]
  },
  {
   "cell_type": "code",
   "execution_count": 50,
   "id": "14dabed6-87aa-4471-a770-5a69763d6653",
   "metadata": {},
   "outputs": [
    {
     "name": "stdout",
     "output_type": "stream",
     "text": [
      "age_category\n",
      "Youth&Adults    802\n",
      "Children         78\n",
      "Seniors          11\n",
      "Name: count, dtype: int64\n"
     ]
    }
   ],
   "source": [
    "#Checking the age_category\n",
    "print(df['age_category'].value_counts())"
   ]
  },
  {
   "cell_type": "code",
   "execution_count": 123,
   "id": "c7354f7a-0351-4e0c-bf22-41f8f1b62404",
   "metadata": {},
   "outputs": [
    {
     "name": "stdout",
     "output_type": "stream",
     "text": [
      "\n",
      "Data has been exported to titanic_project.xlsx\n"
     ]
    }
   ],
   "source": [
    "df.to_excel('titanic_project.xlsx', index=False)\n",
    "\n",
    "print('\\nData has been exported to titanic_project.xlsx')"
   ]
  },
  {
   "cell_type": "markdown",
   "id": "877745b1-eb3e-496e-a1b3-9d457058cd78",
   "metadata": {},
   "source": [
    "# Tableau Dashboard"
   ]
  },
  {
   "cell_type": "code",
   "execution_count": 128,
   "id": "7a4464e3-2d7d-4990-9a46-d96dea2d3317",
   "metadata": {},
   "outputs": [
    {
     "data": {
      "text/html": [
       "\n",
       "<div class='tableauPlaceholder' id='viz1723330494748' style='position: relative'>\n",
       "    <noscript>\n",
       "        <a href='#'>\n",
       "            <img alt='Dashboard 1 ' src='https://public.tableau.com/static/images/Ti/TitanicsSurvivalRate/Dashboard1/1_rss.png' style='border: none' />\n",
       "        </a>\n",
       "    </noscript>\n",
       "    <object class='tableauViz'  style='display:none;'>\n",
       "        <param name='host_url' value='https%3A%2F%2Fpublic.tableau.com%2F' />\n",
       "        <param name='embed_code_version' value='3' />\n",
       "        <param name='site_root' value='' />\n",
       "        <param name='name' value='TitanicsSurvivalRate&#47;Dashboard1' />\n",
       "        <param name='tabs' value='no' />\n",
       "        <param name='toolbar' value='yes' />\n",
       "        <param name='static_image' value='https://public.tableau.com/static/images/Ti/TitanicsSurvivalRate/Dashboard1/1.png' />\n",
       "        <param name='animate_transition' value='yes' />\n",
       "        <param name='display_static_image' value='yes' />\n",
       "        <param name='display_spinner' value='yes' />\n",
       "        <param name='display_overlay' value='yes' />\n",
       "        <param name='display_count' value='yes' />\n",
       "        <param name='language' value='en-US' />\n",
       "    </object>\n",
       "</div>\n",
       "<script type='text/javascript'>\n",
       "    var divElement = document.getElementById('viz1723330494748');\n",
       "    var vizElement = divElement.getElementsByTagName('object')[0];\n",
       "    if (divElement.offsetWidth > 800) {\n",
       "        vizElement.style.width='1024px';\n",
       "        vizElement.style.height='795px';\n",
       "    } else if (divElement.offsetWidth > 500) {\n",
       "        vizElement.style.width='1024px';\n",
       "        vizElement.style.height='795px';\n",
       "    } else {\n",
       "        vizElement.style.width='100%';\n",
       "        vizElement.style.height='1477px';\n",
       "    }\n",
       "    var scriptElement = document.createElement('script');\n",
       "    scriptElement.src = 'https://public.tableau.com/javascripts/api/viz_v1.js';\n",
       "    vizElement.parentNode.insertBefore(scriptElement, vizElement);\n",
       "</script>\n"
      ],
      "text/plain": [
       "<IPython.core.display.HTML object>"
      ]
     },
     "execution_count": 128,
     "metadata": {},
     "output_type": "execute_result"
    }
   ],
   "source": [
    "from IPython.display import HTML\n",
    "\n",
    "HTML(\"\"\"\n",
    "<div class='tableauPlaceholder' id='viz1723330494748' style='position: relative'>\n",
    "    <noscript>\n",
    "        <a href='#'>\n",
    "            <img alt='Dashboard 1 ' src='https://public.tableau.com/static/images/Ti/TitanicsSurvivalRate/Dashboard1/1_rss.png' style='border: none' />\n",
    "        </a>\n",
    "    </noscript>\n",
    "    <object class='tableauViz'  style='display:none;'>\n",
    "        <param name='host_url' value='https%3A%2F%2Fpublic.tableau.com%2F' />\n",
    "        <param name='embed_code_version' value='3' />\n",
    "        <param name='site_root' value='' />\n",
    "        <param name='name' value='TitanicsSurvivalRate&#47;Dashboard1' />\n",
    "        <param name='tabs' value='no' />\n",
    "        <param name='toolbar' value='yes' />\n",
    "        <param name='static_image' value='https://public.tableau.com/static/images/Ti/TitanicsSurvivalRate/Dashboard1/1.png' />\n",
    "        <param name='animate_transition' value='yes' />\n",
    "        <param name='display_static_image' value='yes' />\n",
    "        <param name='display_spinner' value='yes' />\n",
    "        <param name='display_overlay' value='yes' />\n",
    "        <param name='display_count' value='yes' />\n",
    "        <param name='language' value='en-US' />\n",
    "    </object>\n",
    "</div>\n",
    "<script type='text/javascript'>\n",
    "    var divElement = document.getElementById('viz1723330494748');\n",
    "    var vizElement = divElement.getElementsByTagName('object')[0];\n",
    "    if (divElement.offsetWidth > 800) {\n",
    "        vizElement.style.width='1024px';\n",
    "        vizElement.style.height='795px';\n",
    "    } else if (divElement.offsetWidth > 500) {\n",
    "        vizElement.style.width='1024px';\n",
    "        vizElement.style.height='795px';\n",
    "    } else {\n",
    "        vizElement.style.width='100%';\n",
    "        vizElement.style.height='1477px';\n",
    "    }\n",
    "    var scriptElement = document.createElement('script');\n",
    "    scriptElement.src = 'https://public.tableau.com/javascripts/api/viz_v1.js';\n",
    "    vizElement.parentNode.insertBefore(scriptElement, vizElement);\n",
    "</script>\n",
    "\"\"\")"
   ]
  },
  {
   "cell_type": "markdown",
   "id": "1cb11ff5-64d0-4a2c-937d-ed55fdf12680",
   "metadata": {},
   "source": [
    "https://public.tableau.com/views/TitanicsSurvivalRate/Dashboard1?:language=en-US&:sid=&:redirect=auth&:display_count=n&:origin=viz_share_link"
   ]
  },
  {
   "cell_type": "code",
   "execution_count": 12,
   "id": "32e83b04-cd17-4e6c-970b-fb76c60ff1fb",
   "metadata": {},
   "outputs": [],
   "source": [
    "import scipy.stats"
   ]
  },
  {
   "cell_type": "code",
   "execution_count": 52,
   "id": "6d749488-bc45-4bba-b1d2-b8e12c04484e",
   "metadata": {},
   "outputs": [
    {
     "name": "stdout",
     "output_type": "stream",
     "text": [
      "Pearson correlation coefficient (r_value): -0.3384810359610153\n",
      "P-value: 2.537047387981485e-25\n"
     ]
    }
   ],
   "source": [
    "x = df['Pclass']\n",
    "y = df['Survived']\n",
    "\n",
    "r_value, p_value = scipy.stats.pearsonr(x, y)\n",
    "\n",
    "print(\"Pearson correlation coefficient (r_value):\", r_value)\n",
    "print(\"P-value:\", p_value)"
   ]
  },
  {
   "cell_type": "code",
   "execution_count": 54,
   "id": "92666c98-87e9-4593-8f36-343a9483609a",
   "metadata": {},
   "outputs": [
    {
     "data": {
      "image/png": "[encoded data removed]",
      "text/plain": [
       "<Figure size 640x480 with 1 Axes>"
      ]
     },
     "metadata": {},
     "output_type": "display_data"
    }
   ],
   "source": [
    "import seaborn as sns\n",
    "import matplotlib.pyplot as plt\n",
    "\n",
    "# Calculate survival rates per class\n",
    "survival_rates = df.groupby('Pclass')['Survived'].mean()\n",
    "\n",
    "# Create the bar chart\n",
    "sns.barplot(x=survival_rates.index, y=survival_rates.values)\n",
    "\n",
    "# Add labels and title\n",
    "plt.xlabel(\"Passenger Class\")\n",
    "plt.ylabel(\"Survival Rate\")\n",
    "plt.title(\"Titanic Survival Rate by Passenger Class\")\n",
    "\n",
    "# Show the plot\n",
    "plt.show()"
   ]
  },
  {
   "cell_type": "markdown",
   "id": "76a00a64-3800-4b02-9a90-a26dcbb97132",
   "metadata": {},
   "source": [
    "# Titanic Survival - The Impact of Class and Age\n",
    "\n",
    "My analysis of the Titanic data confirms that both passenger class and age played a major role in determining who survived this tragic event.\n",
    "\n",
    "**Class and Survival**\n",
    "\n",
    "The data shows a moderate negative correlation between passenger class and survival. The negative r-value of -0.34 indicate that as Pclass increases the likelihood of surival tends to decrease. First-class passengers had a higher likelihood of surviving compared to those in second and third class.\n",
    "\n",
    "With the extremly small p_value of 2.54 indicates that the observed correlation is highly statistically significant. It's very unlikely that this correlation occurred by chance.\n",
    "\n",
    "**Age and Survival**\n",
    "\n",
    "Age was another critical factor. Children, especially those in second class, had the highest survival rates. This aligns with the \"women and children first\" policy implemented during the disaster. Sadly, elderly passengers, particularly those in second and third class, were the most vulnerable, with very low survival rates. The survival of one elderly passenger in first class raises questions about individual circumstances and potential exceptions to the general trends.\n",
    "\n",
    "**Key Takeaways**\n",
    "\n",
    "- Socioeconomic status, as reflected in passenger class, significantly impacted survival chances.\n",
    "- Children were prioritized during evacuation, leading to higher survival rates.\n",
    "- Elderly passengers, especially those in lower classes, were particularly vulnerable.\n",
    "\n",
    "**Further Considerations**\n",
    "\n",
    "- A more in-depth statistical analysis is needed to confirm whether the observed survival rate among elderly passengers is statistically significant or merely due to chance.\n",
    "- Additional factors, such as gender and family size, could also influence survival rates and warrant further investigation."
   ]
  },
  {
   "cell_type": "code",
   "execution_count": null,
   "id": "e35f457c-f765-45dc-88a8-b0097ae4213e",
   "metadata": {},
   "outputs": [],
   "source": []
  }
 ],
 "metadata": {
  "kernelspec": {
   "display_name": "Python 3 (ipykernel)",
   "language": "python",
   "name": "python3"
  },
  "language_info": {
   "codemirror_mode": {
    "name": "ipython",
    "version": 3
   },
   "file_extension": ".py",
   "mimetype": "text/x-python",
   "name": "python",
   "nbconvert_exporter": "python",
   "pygments_lexer": "ipython3",
   "version": "3.12.4"
  }
 },
 "nbformat": 4,
 "nbformat_minor": 5
}
